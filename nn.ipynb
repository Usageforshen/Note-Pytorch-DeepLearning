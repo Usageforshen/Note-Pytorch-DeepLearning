{
 "metadata": {
  "language_info": {
   "codemirror_mode": {
    "name": "ipython",
    "version": 3
   },
   "file_extension": ".py",
   "mimetype": "text/x-python",
   "name": "python",
   "nbconvert_exporter": "python",
   "pygments_lexer": "ipython3",
   "version": "3.8.5"
  },
  "orig_nbformat": 2,
  "kernelspec": {
   "name": "python3",
   "display_name": "Python 3.8.5 64-bit ('base': conda)",
   "metadata": {
    "interpreter": {
     "hash": "8d86c190dfcadcdaa67edec4a1ea82702241987b5b1f320c920d3d4ca36fee5b"
    }
   }
  }
 },
 "nbformat": 4,
 "nbformat_minor": 2,
 "cells": [
  {
   "cell_type": "code",
   "execution_count": 8,
   "metadata": {},
   "outputs": [],
   "source": [
    "import torch\n",
    "import torch.nn as nn\n",
    "import torch.nn.functional as F\n"
   ]
  },
  {
   "cell_type": "code",
   "execution_count": 10,
   "metadata": {},
   "outputs": [
    {
     "output_type": "stream",
     "name": "stdout",
     "text": [
      "Net(\n  (conv1): Conv2d(1, 6, kernel_size=(3, 3), stride=(1, 1))\n  (conv2): Conv2d(6, 16, kernel_size=(3, 3), stride=(1, 1))\n  (fc1): Linear(in_features=576, out_features=120, bias=True)\n  (fc2): Linear(in_features=120, out_features=84, bias=True)\n  (fc3): Linear(in_features=84, out_features=10, bias=True)\n)\n"
     ]
    }
   ],
   "source": [
    "# 这个网络是LeNet 输入的是32*32的图像\n",
    "\n",
    "class Net(nn.Module):\n",
    "    def __init__(self):\n",
    "        super(Net, self).__init__()\n",
    "        # 1 input image channel, 6 output channels, 3x3 square convolution\n",
    "        # kernel\n",
    "        # 这个网络输入的图像是 32*32维度的\n",
    "        self.conv1 = nn.Conv2d(1, 6, 3)\n",
    "        # 第一个卷积层的参数有6个 是卷积核参数\n",
    "        self.conv2 = nn.Conv2d(6, 16, 3)\n",
    "        # 第二个卷积层有16个参数 也是卷积核参数\n",
    "        # an affine operation: y = Wx + b\n",
    "        # 经过两个卷积层后要开始全连接层\n",
    "\n",
    "        self.fc1 = nn.Linear(16 * 6 * 6, 120)  # 6*6 from image dimension\n",
    "        # 第一个全连接层的的输入为16*6*6 因为上一个卷积层输出是6*6维度 16通道的特征图  这个FC有120个参数  因为这个FC输出为120个节点\n",
    "        self.fc2 = nn.Linear(120, 84)\n",
    "        # 第二个全连接层有84个参数\n",
    "        self.fc3 = nn.Linear(84, 10)\n",
    "        # 最后个FC有10个参数  说明网络是10分类的 对应的是10个手写数字的分类\n",
    "\n",
    "    def forward(self, x):\n",
    "\n",
    "        # 经过两次最大池化层 池化核都是2*2 步长为1的 并且没有补零的\n",
    "        # 可以计算一下 32*32 经过3*3的卷积核 是30*30特征图,30*30经过2*2池化变成15*15的,15*15经过3*3卷积后是13*13,再2*2池化后是6*6的特征图\n",
    "        # 所以说第一次的全连接层输入是16*6*6的  特征图被池化为6*6 然后有16个通道\n",
    "        # Max pooling over a (2, 2) window\n",
    "        x = F.max_pool2d(F.relu(self.conv1(x)), (2, 2))\n",
    "        # If the size is a square you can only specify a single number\n",
    "        x = F.max_pool2d(F.relu(self.conv2(x)), 2)\n",
    "        x = x.view(-1, self.num_flat_features(x))\n",
    "        x = F.relu(self.fc1(x))\n",
    "        x = F.relu(self.fc2(x))\n",
    "        x = self.fc3(x)\n",
    "        return x\n",
    "\n",
    "    def num_flat_features(self, x):\n",
    "        size = x.size()[1:]  # all dimensions except the batch dimension\n",
    "        num_features = 1\n",
    "        for s in size:\n",
    "            num_features *= s\n",
    "        return num_features\n",
    "\n",
    "\n",
    "net = Net()\n",
    "print(net)"
   ]
  },
  {
   "cell_type": "code",
   "execution_count": 12,
   "metadata": {},
   "outputs": [
    {
     "output_type": "stream",
     "name": "stdout",
     "text": [
      "10\ntorch.Size([6, 1, 3, 3])\n"
     ]
    }
   ],
   "source": [
    "params = list(net.parameters())\n",
    "print(len(params))\n",
    "print(params[0].size())  # conv1's .weight\n",
    "# 输出网络的参数"
   ]
  },
  {
   "cell_type": "code",
   "execution_count": null,
   "metadata": {
    "tags": []
   },
   "outputs": [],
   "source": [
    "for i in params:\n",
    "    print(i.shape)\n",
    "# 循环把网络每一层的参数个数全部输出出来"
   ]
  },
  {
   "cell_type": "code",
   "execution_count": 5,
   "metadata": {},
   "outputs": [
    {
     "output_type": "execute_result",
     "data": {
      "text/plain": [
       "tensor([[-0.0863,  0.0486,  0.0403, -0.0589,  0.0419, -0.1323, -0.0768,  0.0404,\n",
       "         -0.0025,  0.0558]], grad_fn=<AddmmBackward>)"
      ]
     },
     "metadata": {},
     "execution_count": 5
    }
   ],
   "source": [
    "# 让我们尝试一个32x32随机输入。注意：此网络（LeNet）的预期输入大小为32x32。要在MNIST数据集上使用此网络，请将图像从数据集中调整为32x32。\n",
    "input = torch.randn(1,1,32,32)\n",
    "# 随机生成数据给到网络 input相当于是 1个1通道的32*32的随机矩阵图作为图像\n",
    "out = net(input)\n",
    "# 把随机数据给到网络中去\n",
    "out\n",
    "#最后输出的是对应10个数字的概率"
   ]
  },
  {
   "cell_type": "code",
   "execution_count": 6,
   "metadata": {},
   "outputs": [],
   "source": [
    "net.zero_grad()\n",
    "out.backward(torch.randn(1, 10))\n",
    "# 在我们实际使用的时候 将具有随机梯度的所有参数和反向传播器的梯度缓冲区归零"
   ]
  },
  {
   "cell_type": "code",
   "execution_count": 7,
   "metadata": {},
   "outputs": [
    {
     "output_type": "stream",
     "name": "stdout",
     "text": [
      "tensor(1.1198, grad_fn=<MseLossBackward>)\n"
     ]
    }
   ],
   "source": [
    "# 损失函数采用一对（输出，目标）输入，并计算一个值，该值估计输出与目标之间的距离。\n",
    "\n",
    "# nn软件包下有几种不同的 损失函数。一个简单的损失是：nn.MSELoss计算输入和目标之间的均方误差。\n",
    "\n",
    "# 例如：\n",
    "output = net(input)\n",
    "target = torch.randn(10)  # a dummy target, for example\n",
    "target = target.view(1, -1)  # make it the same shape as output\n",
    "criterion = nn.MSELoss()\n",
    "\n",
    "loss = criterion(output, target)\n",
    "print(loss)"
   ]
  },
  {
   "source": [
    "现在，如果loss使用.grad_fn属性的属性向后移动， 您将看到如下所示的计算图：\n",
    "\n",
    "input -> conv2d -> relu -> maxpool2d -> conv2d -> relu -> maxpool2d\n",
    "      -> view -> linear -> relu -> linear -> relu -> linear\n",
    "      -> MSELoss\n",
    "      -> loss"
   ],
   "cell_type": "markdown",
   "metadata": {}
  },
  {
   "cell_type": "code",
   "execution_count": 9,
   "metadata": {},
   "outputs": [
    {
     "output_type": "stream",
     "name": "stdout",
     "text": [
      "<MseLossBackward object at 0x000002F0EF79CD30>\n<AddmmBackward object at 0x000002F0EF79C4F0>\n<AccumulateGrad object at 0x000002F0EF79CD30>\n"
     ]
    }
   ],
   "source": [
    "# 因此，当我们调用时loss.backward()，整个图与损失是微分的，并且图中的所有张量都requires_grad=True 将具有.grad随梯度累积的张量。\n",
    "\n",
    "# 为了说明，让我们向后走几步：\n",
    "print(loss.grad_fn)  # MSELoss\n",
    "print(loss.grad_fn.next_functions[0][0])  # Linear\n",
    "print(loss.grad_fn.next_functions[0][0].next_functions[0][0])  # ReLU"
   ]
  },
  {
   "cell_type": "code",
   "execution_count": 11,
   "metadata": {},
   "outputs": [
    {
     "output_type": "stream",
     "name": "stdout",
     "text": [
      "conv1.bias.grad before backward\nNone\nconv1.bias.grad after backward\nNone\n"
     ]
    }
   ],
   "source": [
    "# 要反向传播错误，我们要做的就是loss.backward()。不过，您需要清除现有的渐变，否则渐变将累积到现有的渐变中。\n",
    "\n",
    "# 现在，我们将调用loss.backward()，并查看向后前后conv1的偏差梯度。\n",
    "\n",
    "#反向传播要先清零  因为torch中梯度是累加的\n",
    "net.zero_grad()     # zeroes the gradient buffers of all parameters\n",
    "\n",
    "print('conv1.bias.grad before backward')\n",
    "print(net.conv1.bias.grad)\n",
    "\n",
    "loss.backward()\n",
    "\n",
    "print('conv1.bias.grad after backward')\n",
    "print(net.conv1.bias.grad)"
   ]
  },
  {
   "cell_type": "code",
   "execution_count": 13,
   "metadata": {},
   "outputs": [
    {
     "output_type": "error",
     "ename": "AttributeError",
     "evalue": "'NoneType' object has no attribute 'data'",
     "traceback": [
      "\u001b[1;31m---------------------------------------------------------------------------\u001b[0m",
      "\u001b[1;31mAttributeError\u001b[0m                            Traceback (most recent call last)",
      "\u001b[1;32m<ipython-input-13-53f1101e74ef>\u001b[0m in \u001b[0;36m<module>\u001b[1;34m\u001b[0m\n\u001b[0;32m      8\u001b[0m \u001b[1;32mfor\u001b[0m \u001b[0mf\u001b[0m \u001b[1;32min\u001b[0m \u001b[0mnet\u001b[0m\u001b[1;33m.\u001b[0m\u001b[0mparameters\u001b[0m\u001b[1;33m(\u001b[0m\u001b[1;33m)\u001b[0m\u001b[1;33m:\u001b[0m\u001b[1;33m\u001b[0m\u001b[1;33m\u001b[0m\u001b[0m\n\u001b[0;32m      9\u001b[0m     \u001b[1;31m# 加下划线是自操作 也就是-=\u001b[0m\u001b[1;33m\u001b[0m\u001b[1;33m\u001b[0m\u001b[1;33m\u001b[0m\u001b[0m\n\u001b[1;32m---> 10\u001b[1;33m     \u001b[0mf\u001b[0m\u001b[1;33m.\u001b[0m\u001b[0mdata\u001b[0m\u001b[1;33m.\u001b[0m\u001b[0msub_\u001b[0m\u001b[1;33m(\u001b[0m\u001b[0mf\u001b[0m\u001b[1;33m.\u001b[0m\u001b[0mgrad\u001b[0m\u001b[1;33m.\u001b[0m\u001b[0mdata\u001b[0m \u001b[1;33m*\u001b[0m \u001b[0mlearning_rate\u001b[0m\u001b[1;33m)\u001b[0m\u001b[1;33m\u001b[0m\u001b[1;33m\u001b[0m\u001b[0m\n\u001b[0m",
      "\u001b[1;31mAttributeError\u001b[0m: 'NoneType' object has no attribute 'data'"
     ]
    }
   ],
   "source": [
    "# 实践中使用的最简单的更新规则是随机梯度下降（SGD）：\n",
    "\n",
    "# weight = weight - learning_rate * gradient\n",
    "# 我们可以使用简单的Python代码实现此目的：\n",
    "\n",
    "learning_rate = 0.01\n",
    "# 做的操作是循环取出参数 然后用当前参数减去梯度值×学习率\n",
    "for f in net.parameters():\n",
    "    # 加下划线是自操作 也就是-=\n",
    "    f.data.sub_(f.grad.data * learning_rate)"
   ]
  },
  {
   "cell_type": "code",
   "execution_count": 15,
   "metadata": {},
   "outputs": [],
   "source": [
    "# 但是，当您使用神经网络时，您想要使用各种不同的更新规则，例如SGD，Nesterov-SGD，Adam，RMSProp等。为实现此目的，我们构建了一个小程序包：torch.optim实现所有这些方法。使用它非常简单：\n",
    "import torch.optim as optim\n",
    "\n",
    "# create your optimizer\n",
    "# optimizer接受所有网络中的参数  设置学习率我0.01\n",
    "optimizer = optim.SGD(net.parameters(), lr=0.01)\n",
    "\n",
    "# in your training loop:\n",
    "optimizer.zero_grad()   #清零梯度 zero the gradient buffers\n",
    "output = net(input)  # 再给一个输入 这个input就是我们随机生成的 1 1 32 32的随机输入\n",
    "loss = criterion(output, target)\n",
    "loss.backward() #backward会记录下梯度\n",
    "optimizer.step()    # Does the update  \n",
    "# 最后使用optimizer的step方法就会执行执行上面的那代码块中的操作 用随机梯度下降的方法 来更新weight权值"
   ]
  },
  {
   "cell_type": "code",
   "execution_count": null,
   "metadata": {},
   "outputs": [],
   "source": []
  }
 ]
}